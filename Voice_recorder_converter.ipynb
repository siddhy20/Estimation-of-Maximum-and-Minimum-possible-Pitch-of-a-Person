{
  "nbformat": 4,
  "nbformat_minor": 0,
  "metadata": {
    "colab": {
      "name": "Voice_recorder_converter.ipynb",
      "provenance": [],
      "collapsed_sections": []
    },
    "kernelspec": {
      "name": "python3",
      "display_name": "Python 3"
    },
    "widgets": {
      "application/vnd.jupyter.widget-state+json": {
        "7fba7267d58f4166b1c27b082b53fcf1": {
          "model_module": "@jupyter-widgets/controls",
          "model_name": "ButtonModel",
          "model_module_version": "1.5.0",
          "state": {
            "_view_name": "ButtonView",
            "style": "IPY_MODEL_395794c8ed914e24b386820640a372d2",
            "_dom_classes": [],
            "description": "Start recording...",
            "_model_name": "ButtonModel",
            "button_style": "",
            "_view_module": "@jupyter-widgets/controls",
            "_model_module_version": "1.5.0",
            "tooltip": "",
            "_view_count": null,
            "disabled": false,
            "_view_module_version": "1.5.0",
            "layout": "IPY_MODEL_e975c64cf9d247699b97ad83dc6911b0",
            "_model_module": "@jupyter-widgets/controls",
            "icon": ""
          }
        },
        "395794c8ed914e24b386820640a372d2": {
          "model_module": "@jupyter-widgets/controls",
          "model_name": "ButtonStyleModel",
          "model_module_version": "1.5.0",
          "state": {
            "_view_name": "StyleView",
            "_model_name": "ButtonStyleModel",
            "_view_module": "@jupyter-widgets/base",
            "_model_module_version": "1.5.0",
            "_view_count": null,
            "button_color": null,
            "font_weight": "",
            "_view_module_version": "1.2.0",
            "_model_module": "@jupyter-widgets/controls"
          }
        },
        "e975c64cf9d247699b97ad83dc6911b0": {
          "model_module": "@jupyter-widgets/base",
          "model_name": "LayoutModel",
          "model_module_version": "1.2.0",
          "state": {
            "_view_name": "LayoutView",
            "grid_template_rows": null,
            "right": null,
            "justify_content": null,
            "_view_module": "@jupyter-widgets/base",
            "overflow": null,
            "_model_module_version": "1.2.0",
            "_view_count": null,
            "flex_flow": null,
            "width": null,
            "min_width": null,
            "border": null,
            "align_items": null,
            "bottom": null,
            "_model_module": "@jupyter-widgets/base",
            "top": null,
            "grid_column": null,
            "overflow_y": null,
            "overflow_x": null,
            "grid_auto_flow": null,
            "grid_area": null,
            "grid_template_columns": null,
            "flex": null,
            "_model_name": "LayoutModel",
            "justify_items": null,
            "grid_row": null,
            "max_height": null,
            "align_content": null,
            "visibility": null,
            "align_self": null,
            "height": null,
            "min_height": null,
            "padding": null,
            "grid_auto_rows": null,
            "grid_gap": null,
            "max_width": null,
            "order": null,
            "_view_module_version": "1.2.0",
            "grid_template_areas": null,
            "object_position": null,
            "object_fit": null,
            "grid_auto_columns": null,
            "margin": null,
            "display": null,
            "left": null
          }
        }
      }
    }
  },
  "cells": [
    {
      "cell_type": "markdown",
      "source": [
        "## Recording the audio and changing it to .**wav** file \n"
      ],
      "metadata": {
        "id": "OmqWfGI-wDA2"
      }
    },
    {
      "cell_type": "code",
      "metadata": {
        "id": "W1fL4ll3CYhd",
        "colab": {
          "base_uri": "https://localhost:8080/"
        },
        "outputId": "33affdd9-263f-471e-ad92-c6ca293adbe3"
      },
      "source": [
        "!pip install pydub"
      ],
      "execution_count": null,
      "outputs": [
        {
          "output_type": "stream",
          "name": "stdout",
          "text": [
            "Collecting pydub\n",
            "  Downloading pydub-0.25.1-py2.py3-none-any.whl (32 kB)\n",
            "Installing collected packages: pydub\n",
            "Successfully installed pydub-0.25.1\n"
          ]
        }
      ]
    },
    {
      "cell_type": "code",
      "metadata": {
        "id": "A6ZA_rsA-z72"
      },
      "source": [
        "import ipywidgets as widgets\n",
        "from IPython import display as disp\n",
        "from IPython.display import display, Audio, clear_output\n",
        "from google.colab import output\n",
        "import base64\n",
        "from pydub import AudioSegment\n",
        "import io\n",
        "import tempfile\n",
        "import librosa"
      ],
      "execution_count": null,
      "outputs": []
    },
    {
      "cell_type": "code",
      "metadata": {
        "id": "bS3MeG3P-JGV"
      },
      "source": [
        "#\n",
        "# original code: https://github.com/magenta/ddsp/blob/master/ddsp/colab/colab_utils.py\n",
        "#\n",
        "\n",
        "\n",
        "# Copyright 2020 The DDSP Authors.\n",
        "#\n",
        "# Licensed under the Apache License, Version 2.0 (the \"License\");\n",
        "# you may not use this file except in compliance with the License.\n",
        "# You may obtain a copy of the License at\n",
        "#\n",
        "#     http://www.apache.org/licenses/LICENSE-2.0\n",
        "#\n",
        "# Unless required by applicable law or agreed to in writing, software\n",
        "# distributed under the License is distributed on an \"AS IS\" BASIS,\n",
        "# WITHOUT WARRANTIES OR CONDITIONS OF ANY KIND, either express or implied.\n",
        "# See the License for the specific language governing permissions and\n",
        "# limitations under the License.\n",
        "\n",
        "def record_audio(seconds=3,\n",
        "                 sample_rate=44100,\n",
        "                 normalize_db=0.1):\n",
        "    \"\"\"Record audio from the browser in colab using javascript.\n",
        "    Based on: https://gist.github.com/korakot/c21c3476c024ad6d56d5f48b0bca92be\n",
        "    Args:\n",
        "      seconds: Number of seconds to record.\n",
        "      sample_rate: Resample recorded audio to this sample rate.\n",
        "      normalize_db: Normalize the audio to this many decibels. Set to None to skip\n",
        "        normalization step.\n",
        "    Returns:\n",
        "      An array of the recorded audio at sample_rate.\n",
        "    \"\"\"\n",
        "    # Use Javascript to record audio.\n",
        "    record_js_code = \"\"\"\n",
        "      const sleep  = time => new Promise(resolve => setTimeout(resolve, time))\n",
        "      const b2text = blob => new Promise(resolve => {\n",
        "        const reader = new FileReader()\n",
        "        reader.onloadend = e => resolve(e.srcElement.result)\n",
        "        reader.readAsDataURL(blob)\n",
        "      })\n",
        "      var record = time => new Promise(async resolve => {\n",
        "        stream = await navigator.mediaDevices.getUserMedia({ audio: true })\n",
        "        recorder = new MediaRecorder(stream)\n",
        "        chunks = []\n",
        "        recorder.ondataavailable = e => chunks.push(e.data)\n",
        "        recorder.start()\n",
        "        await sleep(time)\n",
        "        recorder.onstop = async ()=>{\n",
        "          blob = new Blob(chunks)\n",
        "          text = await b2text(blob)\n",
        "          resolve(text)\n",
        "        }\n",
        "        recorder.stop()\n",
        "      })\n",
        "      \"\"\"\n",
        "    print('Starting recording for {} seconds...'.format(seconds))\n",
        "    display(disp.Javascript(record_js_code))\n",
        "    audio_string = output.eval_js('record(%d)' % (seconds * 1000.0))\n",
        "    print('Finished recording!')\n",
        "    audio_bytes = base64.b64decode(audio_string.split(',')[1])\n",
        "    return audio_bytes_to_np(audio_bytes,\n",
        "                             sample_rate=sample_rate,\n",
        "                             normalize_db=normalize_db)\n",
        "    \n",
        "def audio_bytes_to_np(wav_data,\n",
        "                      sample_rate=44100,\n",
        "                      normalize_db=0.1):\n",
        "    \"\"\"Convert audio file data (in bytes) into a numpy array.\n",
        "    Saves to a tempfile and loads with librosa.\n",
        "    Args:\n",
        "      wav_data: A byte stream of audio data.\n",
        "      sample_rate: Resample recorded audio to this sample rate.\n",
        "      normalize_db: Normalize the audio to this many decibels. Set to None to skip\n",
        "        normalization step.\n",
        "    Returns:\n",
        "      An array of the recorded audio at sample_rate.\n",
        "    \"\"\"\n",
        "    # Parse and normalize the audio.\n",
        "    audio = AudioSegment.from_file(io.BytesIO(wav_data))\n",
        "    audio.remove_dc_offset()\n",
        "    if normalize_db is not None:\n",
        "        audio.normalize(headroom=normalize_db)\n",
        "    # Save to tempfile and load with librosa.\n",
        "    with tempfile.NamedTemporaryFile(suffix='.wav') as temp_wav_file:\n",
        "        fname = temp_wav_file.name\n",
        "        audio.export(fname, format='wav')\n",
        "        audio_np, unused_sr = librosa.load(fname, sr=sample_rate)\n",
        "    return audio_np"
      ],
      "execution_count": null,
      "outputs": []
    },
    {
      "cell_type": "code",
      "metadata": {
        "id": "gikjQSQP-mxH",
        "colab": {
          "base_uri": "https://localhost:8080/",
          "height": 49,
          "referenced_widgets": [
            "7fba7267d58f4166b1c27b082b53fcf1",
            "395794c8ed914e24b386820640a372d2",
            "e975c64cf9d247699b97ad83dc6911b0"
          ]
        },
        "outputId": "4817fee4-3ee0-4bf8-f4ac-67bc9b864704"
      },
      "source": [
        "#@title Record\n",
        "#@markdown * Set recording time:\n",
        "\n",
        "SAMPLE_RATE = 44100\n",
        "record_seconds =   5#@param {type:\"number\", min:1, max:10, step:1}\n",
        "\n",
        "def _record_audio(b):\n",
        "  global audio\n",
        "  clear_output()\n",
        "  audio = record_audio(record_seconds, sample_rate=SAMPLE_RATE)\n",
        "  display(Audio(audio, rate=SAMPLE_RATE))\n",
        "\n",
        "button = widgets.Button(description=\"Start recording...\")\n",
        "button.on_click(_record_audio)\n",
        "display(button)\n"
      ],
      "execution_count": null,
      "outputs": [
        {
          "output_type": "display_data",
          "data": {
            "application/vnd.jupyter.widget-view+json": {
              "model_id": "7fba7267d58f4166b1c27b082b53fcf1",
              "version_minor": 0,
              "version_major": 2
            },
            "text/plain": [
              "Button(description='Start recording...', style=ButtonStyle())"
            ]
          },
          "metadata": {}
        }
      ]
    },
    {
      "cell_type": "code",
      "metadata": {
        "id": "BiH7Mh1ADy74"
      },
      "source": [
        "import matplotlib.pyplot as plt\n",
        "\n",
        "plt.figure()\n",
        "plt.plot(audio)"
      ],
      "execution_count": null,
      "outputs": []
    }
  ]
}