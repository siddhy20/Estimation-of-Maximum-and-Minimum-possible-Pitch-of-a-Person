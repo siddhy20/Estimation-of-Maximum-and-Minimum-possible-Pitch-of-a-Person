{
 "cells": [
  {
   "cell_type": "markdown",
   "metadata": {},
   "source": [
    "\n",
    "<br>\n",
    "PyAudio Example: Play a wave file (callback version).<br>\n",
    "Almost constant delay = 0.026s +- 0.002s<br>\n"
   ]
  },
  {
   "cell_type": "code",
   "execution_count": 1,
   "metadata": {},
   "outputs": [],
   "source": [
    "import librosa\n",
    "from scipy import signal\n",
    "import numpy as np\n",
    "import pyaudio, time\n",
    "# import wave\n",
    "import sys, pdb "
   ]
  },
  {
   "cell_type": "code",
   "execution_count": 5,
   "metadata": {},
   "outputs": [],
   "source": [
    "WAVE_OUTPUT_FILENAME = \"C:/Users/Dell/OneDrive/Desktop/audiofiles/song.wav\"\n",
    "RATE = 16000"
   ]
  },
  {
   "cell_type": "code",
   "execution_count": 7,
   "metadata": {},
   "outputs": [],
   "source": [
    "y_play, _ = librosa.load('C:/Users/Dell/OneDrive/Desktop/audiofiles/song.wav',sr=RATE)"
   ]
  },
  {
   "cell_type": "markdown",
   "metadata": {},
   "source": [
    "RECORD_SECONDS = len(y_play)/RATE"
   ]
  },
  {
   "cell_type": "code",
   "execution_count": 12,
   "metadata": {},
   "outputs": [],
   "source": [
    "import soundfile as sf"
   ]
  },
  {
   "cell_type": "code",
   "execution_count": 13,
   "metadata": {},
   "outputs": [
    {
     "name": "stdout",
     "output_type": "stream",
     "text": [
      "* recording\n"
     ]
    },
    {
     "name": "stderr",
     "output_type": "stream",
     "text": [
      "C:\\Users\\Dell\\AppData\\Local\\Temp/ipykernel_4004/2999226467.py:17: DeprecationWarning: tostring() is deprecated. Use tobytes() instead.\n",
      "  data = data.astype(np.float32).tostring()\n"
     ]
    }
   ],
   "source": [
    "if True:\n",
    "    CHUNK = 128\n",
    "    # WIDTH = 2\n",
    "    CHANNELS = 1\n",
    "    p = pyaudio.PyAudio()\n",
    "    y_record = []\n",
    "    i=0\n",
    "    def callback(in_data, frame_count, time_info, status):\n",
    "        global y_record, i, y_play\n",
    "\n",
    "        # REC\n",
    "        y_record.append(in_data)\n",
    "\n",
    "        # PLAY\n",
    "        data = y_play[i*frame_count:(i+1)*frame_count]\n",
    "        i+=1\n",
    "        data = data.astype(np.float32).tostring()\n",
    "        return (data, pyaudio.paContinue)\n",
    "    stream = p.open(format=pyaudio.paFloat32, #p.get_format_from_width(WIDTH),\n",
    "                    channels=CHANNELS,\n",
    "                    rate=RATE,\n",
    "                    input=True,\n",
    "                    output=True,\n",
    "                    frames_per_buffer=CHUNK,\n",
    "                    stream_callback=callback)\n",
    "    print(\"* recording\")\n",
    "    stream.start_stream()\n",
    "    while stream.is_active():\n",
    "        time.sleep(0.01)\n",
    "    stream.stop_stream()\n",
    "    stream.close()\n",
    "    p.terminate()\n",
    "    y_record = [np.frombuffer(data, dtype=np.float32) for data in y_record]\n",
    "    y_record = np.concatenate(y_record)\n",
    "    sf.write(WAVE_OUTPUT_FILENAME, y_record, RATE)"
   ]
  },
  {
   "cell_type": "code",
   "execution_count": 14,
   "metadata": {},
   "outputs": [],
   "source": [
    "def delay_core(reference, recorded, DEBUG=False):\n",
    "        sr=RATE\n",
    "        corr = signal.correlate(reference, recorded, mode='full') \n",
    "        d = -(np.argmax(corr) - len(recorded) + 1)\n",
    "        return d       "
   ]
  },
  {
   "cell_type": "code",
   "execution_count": 15,
   "metadata": {},
   "outputs": [],
   "source": [
    "def delay_audio(y_play, y_record):\n",
    "    delay_in_sec = delay_core(y_play, y_record, DEBUG=True) / RATE\n",
    "    delay_in_sec = str(abs(np.round(delay_in_sec, 3)))\n",
    "    return delay_in_sec"
   ]
  },
  {
   "cell_type": "code",
   "execution_count": 16,
   "metadata": {},
   "outputs": [
    {
     "name": "stdout",
     "output_type": "stream",
     "text": [
      "Delay 0.281\n",
      "Buffer 0.008\n"
     ]
    }
   ],
   "source": [
    "delay = delay_audio(y_play, y_record)\n",
    "print('Delay',delay)\n",
    "print('Buffer',CHUNK/RATE)"
   ]
  },
  {
   "cell_type": "code",
   "execution_count": null,
   "metadata": {},
   "outputs": [],
   "source": []
  }
 ],
 "metadata": {
  "kernelspec": {
   "display_name": "Python 3 (ipykernel)",
   "language": "python",
   "name": "python3"
  },
  "language_info": {
   "codemirror_mode": {
    "name": "ipython",
    "version": 3
   },
   "file_extension": ".py",
   "mimetype": "text/x-python",
   "name": "python",
   "nbconvert_exporter": "python",
   "pygments_lexer": "ipython3",
   "version": "3.9.0"
  }
 },
 "nbformat": 4,
 "nbformat_minor": 2
}
